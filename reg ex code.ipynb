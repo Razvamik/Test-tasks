{
 "cells": [
  {
   "cell_type": "code",
   "execution_count": 72,
   "metadata": {},
   "outputs": [
    {
     "name": "stdout",
     "output_type": "stream",
     "text": [
      "Количество упоминаний слова шить - 2.\n",
      "Количество упоминаний слова маша - 3.\n",
      "Количество упоминаний слова шитье - 2.\n",
      "Количество упоминаний слова шапка - 2.\n",
      "Количество упоминаний слова ниша - 3.\n",
      "Количество упоминаний слова выше - 2.\n"
     ]
    }
   ],
   "source": [
    "import regex as re\n",
    "words = {}\n",
    "\n",
    "with open('InterviewPython_Works.txt', encoding='utf8') as f:\n",
    "    for line in f:\n",
    "        for word in re.findall(r'([а-яА-Я]*[шШ][а-яА-Я]*)', line.lower()):\n",
    "            words[word] = words.setdefault(word, 0) + 1\n",
    "\n",
    "for key, value in words.items():\n",
    "    if value >= 2:\n",
    "        print(f'Количество упоминаний слова {key} - {value}.')"
   ]
  }
 ],
 "metadata": {
  "kernelspec": {
   "display_name": "Python 3",
   "language": "python",
   "name": "python3"
  },
  "language_info": {
   "codemirror_mode": {
    "name": "ipython",
    "version": 3
   },
   "file_extension": ".py",
   "mimetype": "text/x-python",
   "name": "python",
   "nbconvert_exporter": "python",
   "pygments_lexer": "ipython3",
   "version": "3.8.5"
  }
 },
 "nbformat": 4,
 "nbformat_minor": 4
}
